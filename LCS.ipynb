{
 "cells": [
  {
   "cell_type": "code",
   "execution_count": 24,
   "metadata": {},
   "outputs": [],
   "source": [
    "import numpy as np\n",
    "\n",
    "\n",
    "X = \"abcdefghijklmn\"\n",
    "Y = \"acladjfegilmdjkla\""
   ]
  },
  {
   "cell_type": "code",
   "execution_count": 25,
   "metadata": {},
   "outputs": [
    {
     "name": "stdout",
     "output_type": "stream",
     "text": [
      "9\n"
     ]
    }
   ],
   "source": [
    "n1 = len(X)\n",
    "n2 = len(Y)\n",
    "\n",
    "c = np.zeros([n1+1, n2+1], dtype=np.int16)\n",
    "\n",
    "for i in range(n1):\n",
    "    for j in range(n2):\n",
    "        if X[i] == Y[j]:\n",
    "            c[i,j] = c[i-1, j-1] + 1\n",
    "        else:\n",
    "            c[i,j] = max(c[i-1,j], c[i,j-1])\n",
    "\n",
    "print(c[n1-1, n2-1])"
   ]
  },
  {
   "cell_type": "code",
   "execution_count": 26,
   "metadata": {},
   "outputs": [
    {
     "name": "stdout",
     "output_type": "stream",
     "text": [
      "acdfgijkl\n"
     ]
    }
   ],
   "source": [
    "# 回溯求 lcs\n",
    "lcs = \"\"\n",
    "while i >= 0 and j >= 0:\n",
    "    if X[i] == Y[j]:\n",
    "        lcs = X[i] + lcs\n",
    "        i -= 1\n",
    "        j -= 1\n",
    "    elif c[i-1, j] > c[i, j-1]:\n",
    "        i -= 1\n",
    "    else:\n",
    "        j -= 1\n",
    "\n",
    "print(lcs)"
   ]
  }
 ],
 "metadata": {
  "kernelspec": {
   "display_name": "Python 3",
   "language": "python",
   "name": "python3"
  },
  "language_info": {
   "codemirror_mode": {
    "name": "ipython",
    "version": 3
   },
   "file_extension": ".py",
   "mimetype": "text/x-python",
   "name": "python",
   "nbconvert_exporter": "python",
   "pygments_lexer": "ipython3",
   "version": "3.12.1"
  }
 },
 "nbformat": 4,
 "nbformat_minor": 2
}
