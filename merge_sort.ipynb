{
 "cells": [
  {
   "cell_type": "code",
   "execution_count": 16,
   "metadata": {},
   "outputs": [],
   "source": [
    "import random"
   ]
  },
  {
   "cell_type": "code",
   "execution_count": 23,
   "metadata": {},
   "outputs": [],
   "source": [
    "def merge(array1, array2):\n",
    "    merged = []\n",
    "    while len(array1) > 0 and len(array2) > 0:\n",
    "        if array1[0] < array2[0]:\n",
    "            num = array1.pop(0)\n",
    "        else:\n",
    "            num = array2.pop(0)\n",
    "        merged.append(num)\n",
    "    while len(array1) > 0:\n",
    "        num = array1.pop(0)\n",
    "        merged.append(num)\n",
    "    while len(array2) > 0:\n",
    "        num = array2.pop(0)\n",
    "        merged.append(num)\n",
    "    return merged\n",
    "\t"
   ]
  },
  {
   "cell_type": "code",
   "execution_count": 18,
   "metadata": {},
   "outputs": [],
   "source": [
    "def merge_sort(array):\n",
    "    n = len(array)\n",
    "    if n <= 1:\n",
    "        return array\n",
    "    n1 = n // 2\n",
    "    a1 = array[:n1]\n",
    "    a2 = array[n1:]\n",
    "    a1 = merge_sort(a1)\n",
    "    a2 = merge_sort(a2)\n",
    "    return merge(a1, a2)\n"
   ]
  },
  {
   "cell_type": "code",
   "execution_count": 22,
   "metadata": {},
   "outputs": [
    {
     "data": {
      "text/plain": [
       "[3, 4]"
      ]
     },
     "execution_count": 22,
     "metadata": {},
     "output_type": "execute_result"
    }
   ],
   "source": [
    "a=[0,1,2,3,4]\n",
    "a[:3]\n",
    "a[3:]"
   ]
  },
  {
   "cell_type": "code",
   "execution_count": 25,
   "metadata": {},
   "outputs": [
    {
     "name": "stdout",
     "output_type": "stream",
     "text": [
      "[0, 0, 2, 3, 4, 8, 8, 9, 10, 14, 14, 16, 18, 19, 19, 20, 22, 23, 24, 24, 24, 24, 25, 26, 27, 27, 29, 29, 31, 31, 31, 32, 33, 33, 35, 35, 37, 38, 40, 41, 41, 41, 44, 44, 45, 46, 47, 48, 49, 49, 50, 50, 52, 52, 52, 53, 53, 54, 55, 55, 55, 55, 57, 60, 62, 63, 63, 63, 64, 64, 70, 70, 72, 72, 72, 73, 75, 75, 79, 81, 82, 83, 84, 84, 84, 85, 86, 87, 87, 89, 90, 91, 94, 97, 98, 98, 98, 99, 99, 100]\n"
     ]
    }
   ],
   "source": [
    "disorder = [random.randint(0, 100) for i in range(100)]\n",
    "merged = merge_sort(disorder)\n",
    "print(merged)"
   ]
  }
 ],
 "metadata": {
  "kernelspec": {
   "display_name": "Python 3",
   "language": "python",
   "name": "python3"
  },
  "language_info": {
   "codemirror_mode": {
    "name": "ipython",
    "version": 3
   },
   "file_extension": ".py",
   "mimetype": "text/x-python",
   "name": "python",
   "nbconvert_exporter": "python",
   "pygments_lexer": "ipython3",
   "version": "3.12.1"
  }
 },
 "nbformat": 4,
 "nbformat_minor": 2
}
